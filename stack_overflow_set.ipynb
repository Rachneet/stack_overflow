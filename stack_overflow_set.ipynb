{
 "cells": [
  {
   "cell_type": "code",
   "execution_count": 1,
   "metadata": {},
   "outputs": [],
   "source": [
    "import csv\n",
    "import pandas as pd\n",
    "import string\n",
    "import requests\n",
    "from xml.dom import minidom\n",
    "import nltk\n",
    "from bs4 import BeautifulSoup"
   ]
  },
  {
   "cell_type": "code",
   "execution_count": 2,
   "metadata": {},
   "outputs": [],
   "source": [
    "import xml.etree.ElementTree as ET\n",
    "\n",
    "def xml2df(path):\n",
    "    tree = ET.parse(path)\n",
    "    root = tree.getroot()\n",
    "    data=[]\n",
    "    for child in root:\n",
    "        #print(child.attrib)\n",
    "        #df = pd.Series(child.attrib).to_frame()\n",
    "        data.append(child.attrib)\n",
    "    df = pd.DataFrame(data)\n",
    "    return df"
   ]
  },
  {
   "cell_type": "code",
   "execution_count": 3,
   "metadata": {},
   "outputs": [],
   "source": [
    "def create_data(category):\n",
    "    \n",
    "#     df_post= xml2df(\"/home/rachneet/Downloads/stack_exchange/\" + category + \".stackexchange.com/Posts.xml\")\n",
    "#     df_user= xml2df(\"/home/rachneet/Downloads/stack_exchange/\" + category + \".stackexchange.com/Users.xml\")\n",
    "    \n",
    "    df_post= xml2df(\"/home/rachneet/datasets/stack_overflow/Posts.xml\")\n",
    "    df_user= xml2df(\"/home/rachneet/datasets/stack_overflow/Users.xml\")\n",
    "    \n",
    "    print(\"Posts: \",df_post.shape)\n",
    "    df_post = df_post[['OwnerUserId','Body']]\n",
    "    print(\"Users: \",df_user.shape)\n",
    "    df_user = df_user[['Id','DisplayName']]\n",
    "    df_post.rename(columns={'OwnerUserId':'Id'},inplace=True)\n",
    "    data = pd.merge(df_post,df_user,on='Id',how='left')\n",
    "    data.dropna(inplace=True)\n",
    "    print(\"Combined frame shape\", data.shape)\n",
    "    data.drop(['Id'],axis=1,inplace=True)\n",
    "    data.rename(columns={'DisplayName':'Name','Body':'Post'},inplace=True)\n",
    "    data = data.reindex(columns=['Name','Post'])\n",
    "    data['Post'] = data['Post'].apply(lambda x: BeautifulSoup(x, 'html.parser').get_text().replace('|','').lower())\n",
    "    data['Post'] = data['Post'].apply(lambda x: \" \".join(x.split()))\n",
    "#     soup = BeautifulSoup(data.at[0,'Post'], 'html.parser')\n",
    "#     print(soup.get_text())\n",
    "    #print(data.head())\n",
    "    #print(data.at[1,'Post'])\n",
    "    #data.to_csv(\"/home/rachneet/datasets/stack_overflow/\" + category + \".csv\",sep='|',encoding = 'utf-8',header=False,index=False,na_rep=string)\n",
    "    print(\"Write complete for post: \", category)\n",
    "    return data"
   ]
  },
  {
   "cell_type": "code",
   "execution_count": 4,
   "metadata": {
    "scrolled": true
   },
   "outputs": [
    {
     "name": "stdout",
     "output_type": "stream",
     "text": [
      "Posts:  (43872992, 21)\n",
      "Users:  (10097978, 13)\n",
      "Combined frame shape (43384834, 3)\n"
     ]
    },
    {
     "name": "stderr",
     "output_type": "stream",
     "text": [
      "/home/rachneet/.local/lib/python3.6/site-packages/bs4/__init__.py:335: UserWarning: \"http://en.wikipedia.org/wiki/Arity#n-ary\" looks like a URL. Beautiful Soup is not an HTTP client. You should probably use an HTTP client like requests to get the document behind the URL, and feed that document to Beautiful Soup.\n",
      "  ' that document to Beautiful Soup.' % decoded_markup\n",
      "/home/rachneet/.local/lib/python3.6/site-packages/bs4/__init__.py:335: UserWarning: \"http://en.wikipedia.org/wiki/CPUID\" looks like a URL. Beautiful Soup is not an HTTP client. You should probably use an HTTP client like requests to get the document behind the URL, and feed that document to Beautiful Soup.\n",
      "  ' that document to Beautiful Soup.' % decoded_markup\n",
      "/home/rachneet/.local/lib/python3.6/site-packages/bs4/__init__.py:335: UserWarning: \"https://github.com/davedelong/DDMathParser\" looks like a URL. Beautiful Soup is not an HTTP client. You should probably use an HTTP client like requests to get the document behind the URL, and feed that document to Beautiful Soup.\n",
      "  ' that document to Beautiful Soup.' % decoded_markup\n",
      "/home/rachneet/.local/lib/python3.6/site-packages/bs4/__init__.py:335: UserWarning: \"http://sourceforge.net/projects/wsdl4j/files/WSDL4J/\" looks like a URL. Beautiful Soup is not an HTTP client. You should probably use an HTTP client like requests to get the document behind the URL, and feed that document to Beautiful Soup.\n",
      "  ' that document to Beautiful Soup.' % decoded_markup\n",
      "/home/rachneet/.local/lib/python3.6/site-packages/bs4/__init__.py:335: UserWarning: \"http://hindsightsoftware.com/solutions/behave-for-jira/\" looks like a URL. Beautiful Soup is not an HTTP client. You should probably use an HTTP client like requests to get the document behind the URL, and feed that document to Beautiful Soup.\n",
      "  ' that document to Beautiful Soup.' % decoded_markup\n",
      "/home/rachneet/.local/lib/python3.6/site-packages/bs4/__init__.py:335: UserWarning: \"https://github.com/alexdunae/holidays\" looks like a URL. Beautiful Soup is not an HTTP client. You should probably use an HTTP client like requests to get the document behind the URL, and feed that document to Beautiful Soup.\n",
      "  ' that document to Beautiful Soup.' % decoded_markup\n",
      "/home/rachneet/.local/lib/python3.6/site-packages/bs4/__init__.py:335: UserWarning: \"http://davidb.github.io/scala-maven-plugin\" looks like a URL. Beautiful Soup is not an HTTP client. You should probably use an HTTP client like requests to get the document behind the URL, and feed that document to Beautiful Soup.\n",
      "  ' that document to Beautiful Soup.' % decoded_markup\n",
      "/home/rachneet/.local/lib/python3.6/site-packages/bs4/__init__.py:335: UserWarning: \"https://www.nuget.org/packages/FakeDbSet\" looks like a URL. Beautiful Soup is not an HTTP client. You should probably use an HTTP client like requests to get the document behind the URL, and feed that document to Beautiful Soup.\n",
      "  ' that document to Beautiful Soup.' % decoded_markup\n",
      "/home/rachneet/.local/lib/python3.6/site-packages/bs4/__init__.py:335: UserWarning: \"http://www.ntop.org/products/packet-capture/pf_ring/\" looks like a URL. Beautiful Soup is not an HTTP client. You should probably use an HTTP client like requests to get the document behind the URL, and feed that document to Beautiful Soup.\n",
      "  ' that document to Beautiful Soup.' % decoded_markup\n",
      "/home/rachneet/.local/lib/python3.6/site-packages/bs4/__init__.py:335: UserWarning: \"http://www.martinfowler.com/bliki/UniformAccessPrinciple.html\" looks like a URL. Beautiful Soup is not an HTTP client. You should probably use an HTTP client like requests to get the document behind the URL, and feed that document to Beautiful Soup.\n",
      "  ' that document to Beautiful Soup.' % decoded_markup\n",
      "/home/rachneet/.local/lib/python3.6/site-packages/bs4/__init__.py:335: UserWarning: \"https://msdn.microsoft.com/en-us/library/ms187342.aspx\" looks like a URL. Beautiful Soup is not an HTTP client. You should probably use an HTTP client like requests to get the document behind the URL, and feed that document to Beautiful Soup.\n",
      "  ' that document to Beautiful Soup.' % decoded_markup\n",
      "/home/rachneet/.local/lib/python3.6/site-packages/bs4/__init__.py:335: UserWarning: \"http://stackoverflow.com/documentation/c/6257/create-and-include-header-files#t=201701041641179407709\" looks like a URL. Beautiful Soup is not an HTTP client. You should probably use an HTTP client like requests to get the document behind the URL, and feed that document to Beautiful Soup.\n",
      "  ' that document to Beautiful Soup.' % decoded_markup\n",
      "/home/rachneet/.local/lib/python3.6/site-packages/bs4/__init__.py:335: UserWarning: \"http://atlas.apache.org/index.html\" looks like a URL. Beautiful Soup is not an HTTP client. You should probably use an HTTP client like requests to get the document behind the URL, and feed that document to Beautiful Soup.\n",
      "  ' that document to Beautiful Soup.' % decoded_markup\n",
      "/home/rachneet/.local/lib/python3.6/site-packages/bs4/__init__.py:335: UserWarning: \"https://github.com/PanayotCankov/timeline-view\" looks like a URL. Beautiful Soup is not an HTTP client. You should probably use an HTTP client like requests to get the document behind the URL, and feed that document to Beautiful Soup.\n",
      "  ' that document to Beautiful Soup.' % decoded_markup\n",
      "/home/rachneet/.local/lib/python3.6/site-packages/bs4/__init__.py:335: UserWarning: \"https://www.adaptris.com/interlok.php\" looks like a URL. Beautiful Soup is not an HTTP client. You should probably use an HTTP client like requests to get the document behind the URL, and feed that document to Beautiful Soup.\n",
      "  ' that document to Beautiful Soup.' % decoded_markup\n",
      "/home/rachneet/.local/lib/python3.6/site-packages/bs4/__init__.py:335: UserWarning: \"http://hackage.haskell.org/package/Chart\" looks like a URL. Beautiful Soup is not an HTTP client. You should probably use an HTTP client like requests to get the document behind the URL, and feed that document to Beautiful Soup.\n",
      "  ' that document to Beautiful Soup.' % decoded_markup\n",
      "/home/rachneet/.local/lib/python3.6/site-packages/bs4/__init__.py:335: UserWarning: \"http://hackage.haskell.org/package/time\" looks like a URL. Beautiful Soup is not an HTTP client. You should probably use an HTTP client like requests to get the document behind the URL, and feed that document to Beautiful Soup.\n",
      "  ' that document to Beautiful Soup.' % decoded_markup\n"
     ]
    },
    {
     "name": "stdout",
     "output_type": "stream",
     "text": [
      "Write complete for post:  stack_overflow_dataset\n"
     ]
    }
   ],
   "source": [
    "df = create_data('stack_overflow_dataset')"
   ]
  },
  {
   "cell_type": "code",
   "execution_count": 5,
   "metadata": {},
   "outputs": [
    {
     "data": {
      "text/html": [
       "<div>\n",
       "<style scoped>\n",
       "    .dataframe tbody tr th:only-of-type {\n",
       "        vertical-align: middle;\n",
       "    }\n",
       "\n",
       "    .dataframe tbody tr th {\n",
       "        vertical-align: top;\n",
       "    }\n",
       "\n",
       "    .dataframe thead th {\n",
       "        text-align: right;\n",
       "    }\n",
       "</style>\n",
       "<table border=\"1\" class=\"dataframe\">\n",
       "  <thead>\n",
       "    <tr style=\"text-align: right;\">\n",
       "      <th></th>\n",
       "      <th>Name</th>\n",
       "      <th>Post</th>\n",
       "    </tr>\n",
       "  </thead>\n",
       "  <tbody>\n",
       "    <tr>\n",
       "      <th>0</th>\n",
       "      <td>Eggs McLaren</td>\n",
       "      <td>i want to use a track-bar to change a form's o...</td>\n",
       "    </tr>\n",
       "    <tr>\n",
       "      <th>1</th>\n",
       "      <td>Kevin Dente</td>\n",
       "      <td>i have an absolutely positioned div containing...</td>\n",
       "    </tr>\n",
       "    <tr>\n",
       "      <th>2</th>\n",
       "      <td>Kevin Dente</td>\n",
       "      <td>an explicit cast to double like this isn't nec...</td>\n",
       "    </tr>\n",
       "    <tr>\n",
       "      <th>3</th>\n",
       "      <td>Jeff Atwood</td>\n",
       "      <td>given a datetime representing a person's birth...</td>\n",
       "    </tr>\n",
       "    <tr>\n",
       "      <th>4</th>\n",
       "      <td>Jeff Atwood</td>\n",
       "      <td>given a specific datetime value, how do i disp...</td>\n",
       "    </tr>\n",
       "  </tbody>\n",
       "</table>\n",
       "</div>"
      ],
      "text/plain": [
       "           Name                                               Post\n",
       "0  Eggs McLaren  i want to use a track-bar to change a form's o...\n",
       "1   Kevin Dente  i have an absolutely positioned div containing...\n",
       "2   Kevin Dente  an explicit cast to double like this isn't nec...\n",
       "3   Jeff Atwood  given a datetime representing a person's birth...\n",
       "4   Jeff Atwood  given a specific datetime value, how do i disp..."
      ]
     },
     "execution_count": 5,
     "metadata": {},
     "output_type": "execute_result"
    }
   ],
   "source": [
    "df.head()"
   ]
  },
  {
   "cell_type": "code",
   "execution_count": 6,
   "metadata": {},
   "outputs": [
    {
     "data": {
      "text/plain": [
       "(43384834, 2)"
      ]
     },
     "execution_count": 6,
     "metadata": {},
     "output_type": "execute_result"
    }
   ],
   "source": [
    "df.shape"
   ]
  },
  {
   "cell_type": "code",
   "execution_count": 7,
   "metadata": {},
   "outputs": [],
   "source": [
    "#UnicodeEncodeError: 'utf-8' codec can't encode character '\\udbff' in position 789: surrogates not allowed"
   ]
  },
  {
   "cell_type": "code",
   "execution_count": 8,
   "metadata": {},
   "outputs": [],
   "source": [
    "def cleanser(text):\n",
    "    post=''\n",
    "    try:\n",
    "        post=  text.encode(\"utf-8\")\n",
    "    except UnicodeEncodeError as e:\n",
    "        if e.reason == 'surrogates not allowed':\n",
    "            post =  text.encode('utf-8', \"backslashreplace\").decode('utf-8')\n",
    "    \n",
    "    return post"
   ]
  },
  {
   "cell_type": "code",
   "execution_count": 12,
   "metadata": {},
   "outputs": [],
   "source": [
    "df['Post'] = df['Post'].apply(lambda x: cleanser(x))"
   ]
  },
  {
   "cell_type": "code",
   "execution_count": 13,
   "metadata": {},
   "outputs": [
    {
     "data": {
      "text/plain": [
       "(43384834, 2)"
      ]
     },
     "execution_count": 13,
     "metadata": {},
     "output_type": "execute_result"
    }
   ],
   "source": [
    "df.shape"
   ]
  },
  {
   "cell_type": "code",
   "execution_count": 11,
   "metadata": {},
   "outputs": [
    {
     "name": "stdout",
     "output_type": "stream",
     "text": [
      "i love this\n",
      "i love this\n"
     ]
    }
   ],
   "source": [
    "# x= \"i love this\"\n",
    "# print(x.encode('utf-8').decode('utf-8'))\n",
    "# print(x)"
   ]
  },
  {
   "cell_type": "code",
   "execution_count": 14,
   "metadata": {},
   "outputs": [
    {
     "data": {
      "text/html": [
       "<div>\n",
       "<style scoped>\n",
       "    .dataframe tbody tr th:only-of-type {\n",
       "        vertical-align: middle;\n",
       "    }\n",
       "\n",
       "    .dataframe tbody tr th {\n",
       "        vertical-align: top;\n",
       "    }\n",
       "\n",
       "    .dataframe thead th {\n",
       "        text-align: right;\n",
       "    }\n",
       "</style>\n",
       "<table border=\"1\" class=\"dataframe\">\n",
       "  <thead>\n",
       "    <tr style=\"text-align: right;\">\n",
       "      <th></th>\n",
       "      <th>Name</th>\n",
       "      <th>Post</th>\n",
       "    </tr>\n",
       "  </thead>\n",
       "  <tbody>\n",
       "    <tr>\n",
       "      <th>0</th>\n",
       "      <td>Eggs McLaren</td>\n",
       "      <td>b\"i want to use a track-bar to change a form's...</td>\n",
       "    </tr>\n",
       "    <tr>\n",
       "      <th>1</th>\n",
       "      <td>Kevin Dente</td>\n",
       "      <td>b\"i have an absolutely positioned div containi...</td>\n",
       "    </tr>\n",
       "    <tr>\n",
       "      <th>2</th>\n",
       "      <td>Kevin Dente</td>\n",
       "      <td>b\"an explicit cast to double like this isn't n...</td>\n",
       "    </tr>\n",
       "    <tr>\n",
       "      <th>3</th>\n",
       "      <td>Jeff Atwood</td>\n",
       "      <td>b\"given a datetime representing a person's bir...</td>\n",
       "    </tr>\n",
       "    <tr>\n",
       "      <th>4</th>\n",
       "      <td>Jeff Atwood</td>\n",
       "      <td>b'given a specific datetime value, how do i di...</td>\n",
       "    </tr>\n",
       "  </tbody>\n",
       "</table>\n",
       "</div>"
      ],
      "text/plain": [
       "           Name                                               Post\n",
       "0  Eggs McLaren  b\"i want to use a track-bar to change a form's...\n",
       "1   Kevin Dente  b\"i have an absolutely positioned div containi...\n",
       "2   Kevin Dente  b\"an explicit cast to double like this isn't n...\n",
       "3   Jeff Atwood  b\"given a datetime representing a person's bir...\n",
       "4   Jeff Atwood  b'given a specific datetime value, how do i di..."
      ]
     },
     "execution_count": 14,
     "metadata": {},
     "output_type": "execute_result"
    }
   ],
   "source": [
    "df.head()"
   ]
  },
  {
   "cell_type": "code",
   "execution_count": 15,
   "metadata": {},
   "outputs": [],
   "source": [
    "df.to_csv(\"/home/rachneet/datasets/stack_overflow/stack_overflow_dataset.csv\",sep='|',header=False,index=False,na_rep=string)"
   ]
  },
  {
   "cell_type": "code",
   "execution_count": 19,
   "metadata": {},
   "outputs": [],
   "source": [
    "def clean(text):\n",
    "    post =''\n",
    "    try:\n",
    "        post = text.decode('utf-8')\n",
    "    except AttributeError:\n",
    "        post =  text\n",
    "    return post"
   ]
  },
  {
   "cell_type": "code",
   "execution_count": 20,
   "metadata": {},
   "outputs": [],
   "source": [
    "df['Post'] = df['Post'].apply(lambda x: clean(x))"
   ]
  },
  {
   "cell_type": "code",
   "execution_count": 21,
   "metadata": {},
   "outputs": [
    {
     "data": {
      "text/html": [
       "<div>\n",
       "<style scoped>\n",
       "    .dataframe tbody tr th:only-of-type {\n",
       "        vertical-align: middle;\n",
       "    }\n",
       "\n",
       "    .dataframe tbody tr th {\n",
       "        vertical-align: top;\n",
       "    }\n",
       "\n",
       "    .dataframe thead th {\n",
       "        text-align: right;\n",
       "    }\n",
       "</style>\n",
       "<table border=\"1\" class=\"dataframe\">\n",
       "  <thead>\n",
       "    <tr style=\"text-align: right;\">\n",
       "      <th></th>\n",
       "      <th>Name</th>\n",
       "      <th>Post</th>\n",
       "    </tr>\n",
       "  </thead>\n",
       "  <tbody>\n",
       "    <tr>\n",
       "      <th>0</th>\n",
       "      <td>Eggs McLaren</td>\n",
       "      <td>i want to use a track-bar to change a form's o...</td>\n",
       "    </tr>\n",
       "    <tr>\n",
       "      <th>1</th>\n",
       "      <td>Kevin Dente</td>\n",
       "      <td>i have an absolutely positioned div containing...</td>\n",
       "    </tr>\n",
       "    <tr>\n",
       "      <th>2</th>\n",
       "      <td>Kevin Dente</td>\n",
       "      <td>an explicit cast to double like this isn't nec...</td>\n",
       "    </tr>\n",
       "    <tr>\n",
       "      <th>3</th>\n",
       "      <td>Jeff Atwood</td>\n",
       "      <td>given a datetime representing a person's birth...</td>\n",
       "    </tr>\n",
       "    <tr>\n",
       "      <th>4</th>\n",
       "      <td>Jeff Atwood</td>\n",
       "      <td>given a specific datetime value, how do i disp...</td>\n",
       "    </tr>\n",
       "  </tbody>\n",
       "</table>\n",
       "</div>"
      ],
      "text/plain": [
       "           Name                                               Post\n",
       "0  Eggs McLaren  i want to use a track-bar to change a form's o...\n",
       "1   Kevin Dente  i have an absolutely positioned div containing...\n",
       "2   Kevin Dente  an explicit cast to double like this isn't nec...\n",
       "3   Jeff Atwood  given a datetime representing a person's birth...\n",
       "4   Jeff Atwood  given a specific datetime value, how do i disp..."
      ]
     },
     "execution_count": 21,
     "metadata": {},
     "output_type": "execute_result"
    }
   ],
   "source": [
    "df.head()"
   ]
  },
  {
   "cell_type": "code",
   "execution_count": 22,
   "metadata": {},
   "outputs": [],
   "source": [
    "df.to_csv(\"/home/rachneet/datasets/stack_overflow/stack_overflow_set.csv\",sep='|',encoding='utf-8',header=False,index=False,na_rep=string)"
   ]
  },
  {
   "cell_type": "code",
   "execution_count": 23,
   "metadata": {},
   "outputs": [
    {
     "data": {
      "text/plain": [
       "(43384834, 2)"
      ]
     },
     "execution_count": 23,
     "metadata": {},
     "output_type": "execute_result"
    }
   ],
   "source": [
    "df.shape"
   ]
  },
  {
   "cell_type": "markdown",
   "metadata": {},
   "source": [
    "# gender guesser "
   ]
  },
  {
   "cell_type": "code",
   "execution_count": 4,
   "metadata": {},
   "outputs": [],
   "source": [
    "cols = ['Name','Post']\n",
    "df = pd.read_csv('/home/rachneet/datasets/stack_overflow/stack_overflow_set.csv', sep='|',encoding='utf8',quoting=csv.QUOTE_NONE,names=cols)"
   ]
  },
  {
   "cell_type": "code",
   "execution_count": 6,
   "metadata": {},
   "outputs": [
    {
     "data": {
      "text/html": [
       "<div>\n",
       "<style scoped>\n",
       "    .dataframe tbody tr th:only-of-type {\n",
       "        vertical-align: middle;\n",
       "    }\n",
       "\n",
       "    .dataframe tbody tr th {\n",
       "        vertical-align: top;\n",
       "    }\n",
       "\n",
       "    .dataframe thead th {\n",
       "        text-align: right;\n",
       "    }\n",
       "</style>\n",
       "<table border=\"1\" class=\"dataframe\">\n",
       "  <thead>\n",
       "    <tr style=\"text-align: right;\">\n",
       "      <th></th>\n",
       "      <th>Name</th>\n",
       "      <th>Post</th>\n",
       "    </tr>\n",
       "  </thead>\n",
       "  <tbody>\n",
       "    <tr>\n",
       "      <th>0</th>\n",
       "      <td>Eggs McLaren</td>\n",
       "      <td>i want to use a track-bar to change a form's o...</td>\n",
       "    </tr>\n",
       "    <tr>\n",
       "      <th>1</th>\n",
       "      <td>Kevin Dente</td>\n",
       "      <td>i have an absolutely positioned div containing...</td>\n",
       "    </tr>\n",
       "    <tr>\n",
       "      <th>2</th>\n",
       "      <td>Kevin Dente</td>\n",
       "      <td>an explicit cast to double like this isn't nec...</td>\n",
       "    </tr>\n",
       "    <tr>\n",
       "      <th>3</th>\n",
       "      <td>Jeff Atwood</td>\n",
       "      <td>given a datetime representing a person's birth...</td>\n",
       "    </tr>\n",
       "    <tr>\n",
       "      <th>4</th>\n",
       "      <td>Jeff Atwood</td>\n",
       "      <td>given a specific datetime value, how do i disp...</td>\n",
       "    </tr>\n",
       "  </tbody>\n",
       "</table>\n",
       "</div>"
      ],
      "text/plain": [
       "           Name                                               Post\n",
       "0  Eggs McLaren  i want to use a track-bar to change a form's o...\n",
       "1   Kevin Dente  i have an absolutely positioned div containing...\n",
       "2   Kevin Dente  an explicit cast to double like this isn't nec...\n",
       "3   Jeff Atwood  given a datetime representing a person's birth...\n",
       "4   Jeff Atwood  given a specific datetime value, how do i disp..."
      ]
     },
     "execution_count": 6,
     "metadata": {},
     "output_type": "execute_result"
    }
   ],
   "source": [
    "df.head()"
   ]
  },
  {
   "cell_type": "code",
   "execution_count": 7,
   "metadata": {},
   "outputs": [],
   "source": [
    "import gender_guesser.detector as gender\n",
    "d = gender.Detector(case_sensitive=False)"
   ]
  },
  {
   "cell_type": "code",
   "execution_count": 8,
   "metadata": {},
   "outputs": [],
   "source": [
    "translator = str.maketrans('', '', string.punctuation)"
   ]
  },
  {
   "cell_type": "code",
   "execution_count": 13,
   "metadata": {},
   "outputs": [],
   "source": [
    "def get_gender(name):\n",
    "    try:\n",
    "        n = name.lower()\n",
    "        if ('mom' in n) or ('girl' in n) or ('angel' in n) or ('mum' in n) or ('mother' in n) or ('woman' in n):\n",
    "            return 'female'\n",
    "        if ('boy' in n) or ('dude' in n):\n",
    "            return 'male'\n",
    "        temp = name.translate(translator).split()\n",
    "    except:\n",
    "        return 'unknown'\n",
    "    \n",
    "    if len(temp)>0:\n",
    "        first_name = temp[0]\n",
    "        first_name = ''.join([i for i in first_name if not i.isdigit()])\n",
    "        gender = d.get_gender(first_name,'usa')\n",
    "        if(gender=='unknown'):\n",
    "            first_name= first_name[:-1]\n",
    "            gender = d.get_gender(first_name,'usa')\n",
    "        return gender\n",
    "    else:\n",
    "        return 'unknown'"
   ]
  },
  {
   "cell_type": "code",
   "execution_count": 19,
   "metadata": {},
   "outputs": [],
   "source": [
    "df['Gender'] = df['Name'].apply(lambda x:get_gender(x))"
   ]
  },
  {
   "cell_type": "code",
   "execution_count": 20,
   "metadata": {},
   "outputs": [
    {
     "data": {
      "text/plain": [
       "unknown          22800536\n",
       "andy              9935150\n",
       "male              8409803\n",
       "mostly_male       1378369\n",
       "female             616065\n",
       "mostly_female      244911\n",
       "Name: Gender, dtype: int64"
      ]
     },
     "execution_count": 20,
     "metadata": {},
     "output_type": "execute_result"
    }
   ],
   "source": [
    "df.Gender.value_counts()"
   ]
  },
  {
   "cell_type": "code",
   "execution_count": 21,
   "metadata": {},
   "outputs": [
    {
     "data": {
      "text/html": [
       "<div>\n",
       "<style scoped>\n",
       "    .dataframe tbody tr th:only-of-type {\n",
       "        vertical-align: middle;\n",
       "    }\n",
       "\n",
       "    .dataframe tbody tr th {\n",
       "        vertical-align: top;\n",
       "    }\n",
       "\n",
       "    .dataframe thead th {\n",
       "        text-align: right;\n",
       "    }\n",
       "</style>\n",
       "<table border=\"1\" class=\"dataframe\">\n",
       "  <thead>\n",
       "    <tr style=\"text-align: right;\">\n",
       "      <th></th>\n",
       "      <th>Name</th>\n",
       "      <th>Post</th>\n",
       "      <th>Gender</th>\n",
       "    </tr>\n",
       "  </thead>\n",
       "  <tbody>\n",
       "    <tr>\n",
       "      <th>0</th>\n",
       "      <td>Eggs McLaren</td>\n",
       "      <td>i want to use a track-bar to change a form's o...</td>\n",
       "      <td>unknown</td>\n",
       "    </tr>\n",
       "    <tr>\n",
       "      <th>1</th>\n",
       "      <td>Kevin Dente</td>\n",
       "      <td>i have an absolutely positioned div containing...</td>\n",
       "      <td>male</td>\n",
       "    </tr>\n",
       "    <tr>\n",
       "      <th>2</th>\n",
       "      <td>Kevin Dente</td>\n",
       "      <td>an explicit cast to double like this isn't nec...</td>\n",
       "      <td>male</td>\n",
       "    </tr>\n",
       "    <tr>\n",
       "      <th>3</th>\n",
       "      <td>Jeff Atwood</td>\n",
       "      <td>given a datetime representing a person's birth...</td>\n",
       "      <td>male</td>\n",
       "    </tr>\n",
       "    <tr>\n",
       "      <th>4</th>\n",
       "      <td>Jeff Atwood</td>\n",
       "      <td>given a specific datetime value, how do i disp...</td>\n",
       "      <td>male</td>\n",
       "    </tr>\n",
       "  </tbody>\n",
       "</table>\n",
       "</div>"
      ],
      "text/plain": [
       "           Name                                               Post   Gender\n",
       "0  Eggs McLaren  i want to use a track-bar to change a form's o...  unknown\n",
       "1   Kevin Dente  i have an absolutely positioned div containing...     male\n",
       "2   Kevin Dente  an explicit cast to double like this isn't nec...     male\n",
       "3   Jeff Atwood  given a datetime representing a person's birth...     male\n",
       "4   Jeff Atwood  given a specific datetime value, how do i disp...     male"
      ]
     },
     "execution_count": 21,
     "metadata": {},
     "output_type": "execute_result"
    }
   ],
   "source": [
    "df.head()"
   ]
  },
  {
   "cell_type": "code",
   "execution_count": 25,
   "metadata": {},
   "outputs": [],
   "source": [
    "df_male = df.loc[df.Gender=='male']"
   ]
  },
  {
   "cell_type": "code",
   "execution_count": 26,
   "metadata": {},
   "outputs": [
    {
     "data": {
      "text/html": [
       "<div>\n",
       "<style scoped>\n",
       "    .dataframe tbody tr th:only-of-type {\n",
       "        vertical-align: middle;\n",
       "    }\n",
       "\n",
       "    .dataframe tbody tr th {\n",
       "        vertical-align: top;\n",
       "    }\n",
       "\n",
       "    .dataframe thead th {\n",
       "        text-align: right;\n",
       "    }\n",
       "</style>\n",
       "<table border=\"1\" class=\"dataframe\">\n",
       "  <thead>\n",
       "    <tr style=\"text-align: right;\">\n",
       "      <th></th>\n",
       "      <th>Name</th>\n",
       "      <th>Post</th>\n",
       "      <th>Gender</th>\n",
       "    </tr>\n",
       "  </thead>\n",
       "  <tbody>\n",
       "    <tr>\n",
       "      <th>1</th>\n",
       "      <td>Kevin Dente</td>\n",
       "      <td>i have an absolutely positioned div containing...</td>\n",
       "      <td>male</td>\n",
       "    </tr>\n",
       "    <tr>\n",
       "      <th>2</th>\n",
       "      <td>Kevin Dente</td>\n",
       "      <td>an explicit cast to double like this isn't nec...</td>\n",
       "      <td>male</td>\n",
       "    </tr>\n",
       "    <tr>\n",
       "      <th>3</th>\n",
       "      <td>Jeff Atwood</td>\n",
       "      <td>given a datetime representing a person's birth...</td>\n",
       "      <td>male</td>\n",
       "    </tr>\n",
       "    <tr>\n",
       "      <th>4</th>\n",
       "      <td>Jeff Atwood</td>\n",
       "      <td>given a specific datetime value, how do i disp...</td>\n",
       "      <td>male</td>\n",
       "    </tr>\n",
       "    <tr>\n",
       "      <th>5</th>\n",
       "      <td>Jeff Atwood</td>\n",
       "      <td>\"here's how i do it var ts = new timespan(date...</td>\n",
       "      <td>male</td>\n",
       "    </tr>\n",
       "  </tbody>\n",
       "</table>\n",
       "</div>"
      ],
      "text/plain": [
       "          Name                                               Post Gender\n",
       "1  Kevin Dente  i have an absolutely positioned div containing...   male\n",
       "2  Kevin Dente  an explicit cast to double like this isn't nec...   male\n",
       "3  Jeff Atwood  given a datetime representing a person's birth...   male\n",
       "4  Jeff Atwood  given a specific datetime value, how do i disp...   male\n",
       "5  Jeff Atwood  \"here's how i do it var ts = new timespan(date...   male"
      ]
     },
     "execution_count": 26,
     "metadata": {},
     "output_type": "execute_result"
    }
   ],
   "source": [
    "df_male.head()"
   ]
  },
  {
   "cell_type": "code",
   "execution_count": 27,
   "metadata": {},
   "outputs": [],
   "source": [
    "df_female=df.loc[df.Gender=='female']"
   ]
  },
  {
   "cell_type": "code",
   "execution_count": 28,
   "metadata": {},
   "outputs": [
    {
     "data": {
      "text/html": [
       "<div>\n",
       "<style scoped>\n",
       "    .dataframe tbody tr th:only-of-type {\n",
       "        vertical-align: middle;\n",
       "    }\n",
       "\n",
       "    .dataframe tbody tr th {\n",
       "        vertical-align: top;\n",
       "    }\n",
       "\n",
       "    .dataframe thead th {\n",
       "        text-align: right;\n",
       "    }\n",
       "</style>\n",
       "<table border=\"1\" class=\"dataframe\">\n",
       "  <thead>\n",
       "    <tr style=\"text-align: right;\">\n",
       "      <th></th>\n",
       "      <th>Name</th>\n",
       "      <th>Post</th>\n",
       "      <th>Gender</th>\n",
       "    </tr>\n",
       "  </thead>\n",
       "  <tbody>\n",
       "    <tr>\n",
       "      <th>138</th>\n",
       "      <td>Kalid</td>\n",
       "      <td>i often have to sort a dictionary, consisting ...</td>\n",
       "      <td>female</td>\n",
       "    </tr>\n",
       "    <tr>\n",
       "      <th>140</th>\n",
       "      <td>Kalid</td>\n",
       "      <td>looking around, and using some c# 3.0 features...</td>\n",
       "      <td>female</td>\n",
       "    </tr>\n",
       "    <tr>\n",
       "      <th>164</th>\n",
       "      <td>Kalid</td>\n",
       "      <td>\"in ruby on rails, there's a concept of a migr...</td>\n",
       "      <td>female</td>\n",
       "    </tr>\n",
       "    <tr>\n",
       "      <th>1272</th>\n",
       "      <td>Lea Cohen</td>\n",
       "      <td>if you want to teach the basics of programming...</td>\n",
       "      <td>female</td>\n",
       "    </tr>\n",
       "    <tr>\n",
       "      <th>1657</th>\n",
       "      <td>Lily Ballard</td>\n",
       "      <td>you should take a look at git instead of svn. ...</td>\n",
       "      <td>female</td>\n",
       "    </tr>\n",
       "  </tbody>\n",
       "</table>\n",
       "</div>"
      ],
      "text/plain": [
       "              Name                                               Post  Gender\n",
       "138          Kalid  i often have to sort a dictionary, consisting ...  female\n",
       "140          Kalid  looking around, and using some c# 3.0 features...  female\n",
       "164          Kalid  \"in ruby on rails, there's a concept of a migr...  female\n",
       "1272     Lea Cohen  if you want to teach the basics of programming...  female\n",
       "1657  Lily Ballard  you should take a look at git instead of svn. ...  female"
      ]
     },
     "execution_count": 28,
     "metadata": {},
     "output_type": "execute_result"
    }
   ],
   "source": [
    "df_female.head()"
   ]
  },
  {
   "cell_type": "code",
   "execution_count": 29,
   "metadata": {},
   "outputs": [
    {
     "data": {
      "text/plain": [
       "(616065, 3)"
      ]
     },
     "execution_count": 29,
     "metadata": {},
     "output_type": "execute_result"
    }
   ],
   "source": [
    "df_female.shape"
   ]
  },
  {
   "cell_type": "code",
   "execution_count": 32,
   "metadata": {},
   "outputs": [],
   "source": [
    "df_male_reduced = df_male.sample(n=616065)"
   ]
  },
  {
   "cell_type": "code",
   "execution_count": 33,
   "metadata": {},
   "outputs": [
    {
     "data": {
      "text/html": [
       "<div>\n",
       "<style scoped>\n",
       "    .dataframe tbody tr th:only-of-type {\n",
       "        vertical-align: middle;\n",
       "    }\n",
       "\n",
       "    .dataframe tbody tr th {\n",
       "        vertical-align: top;\n",
       "    }\n",
       "\n",
       "    .dataframe thead th {\n",
       "        text-align: right;\n",
       "    }\n",
       "</style>\n",
       "<table border=\"1\" class=\"dataframe\">\n",
       "  <thead>\n",
       "    <tr style=\"text-align: right;\">\n",
       "      <th></th>\n",
       "      <th>Name</th>\n",
       "      <th>Post</th>\n",
       "      <th>Gender</th>\n",
       "    </tr>\n",
       "  </thead>\n",
       "  <tbody>\n",
       "    <tr>\n",
       "      <th>11099893</th>\n",
       "      <td>Joseph Mansfield</td>\n",
       "      <td>\"that's what the carriage return character is ...</td>\n",
       "      <td>male</td>\n",
       "    </tr>\n",
       "    <tr>\n",
       "      <th>5665370</th>\n",
       "      <td>Hank</td>\n",
       "      <td>since i have no control of which connections a...</td>\n",
       "      <td>male</td>\n",
       "    </tr>\n",
       "    <tr>\n",
       "      <th>25174981</th>\n",
       "      <td>Quentin Hayot</td>\n",
       "      <td>if you really need to download your data every...</td>\n",
       "      <td>male</td>\n",
       "    </tr>\n",
       "    <tr>\n",
       "      <th>5952974</th>\n",
       "      <td>James Dunay</td>\n",
       "      <td>\"i can't figure out whats happening here and w...</td>\n",
       "      <td>male</td>\n",
       "    </tr>\n",
       "    <tr>\n",
       "      <th>6189870</th>\n",
       "      <td>david</td>\n",
       "      <td>\"how do you replace all non matches from one a...</td>\n",
       "      <td>male</td>\n",
       "    </tr>\n",
       "  </tbody>\n",
       "</table>\n",
       "</div>"
      ],
      "text/plain": [
       "                      Name                                               Post  \\\n",
       "11099893  Joseph Mansfield  \"that's what the carriage return character is ...   \n",
       "5665370               Hank  since i have no control of which connections a...   \n",
       "25174981     Quentin Hayot  if you really need to download your data every...   \n",
       "5952974        James Dunay  \"i can't figure out whats happening here and w...   \n",
       "6189870              david  \"how do you replace all non matches from one a...   \n",
       "\n",
       "         Gender  \n",
       "11099893   male  \n",
       "5665370    male  \n",
       "25174981   male  \n",
       "5952974    male  \n",
       "6189870    male  "
      ]
     },
     "execution_count": 33,
     "metadata": {},
     "output_type": "execute_result"
    }
   ],
   "source": [
    "df_male_reduced.head()"
   ]
  },
  {
   "cell_type": "code",
   "execution_count": 34,
   "metadata": {},
   "outputs": [
    {
     "data": {
      "text/plain": [
       "(616065, 3)"
      ]
     },
     "execution_count": 34,
     "metadata": {},
     "output_type": "execute_result"
    }
   ],
   "source": [
    "df_male_reduced.shape"
   ]
  },
  {
   "cell_type": "code",
   "execution_count": 35,
   "metadata": {},
   "outputs": [],
   "source": [
    "data = df_male_reduced.append(df_female, ignore_index=True)"
   ]
  },
  {
   "cell_type": "code",
   "execution_count": 36,
   "metadata": {},
   "outputs": [
    {
     "data": {
      "text/plain": [
       "(1232130, 3)"
      ]
     },
     "execution_count": 36,
     "metadata": {},
     "output_type": "execute_result"
    }
   ],
   "source": [
    "data.shape"
   ]
  },
  {
   "cell_type": "code",
   "execution_count": 37,
   "metadata": {},
   "outputs": [
    {
     "data": {
      "text/html": [
       "<div>\n",
       "<style scoped>\n",
       "    .dataframe tbody tr th:only-of-type {\n",
       "        vertical-align: middle;\n",
       "    }\n",
       "\n",
       "    .dataframe tbody tr th {\n",
       "        vertical-align: top;\n",
       "    }\n",
       "\n",
       "    .dataframe thead th {\n",
       "        text-align: right;\n",
       "    }\n",
       "</style>\n",
       "<table border=\"1\" class=\"dataframe\">\n",
       "  <thead>\n",
       "    <tr style=\"text-align: right;\">\n",
       "      <th></th>\n",
       "      <th>Name</th>\n",
       "      <th>Post</th>\n",
       "      <th>Gender</th>\n",
       "    </tr>\n",
       "  </thead>\n",
       "  <tbody>\n",
       "    <tr>\n",
       "      <th>0</th>\n",
       "      <td>Joseph Mansfield</td>\n",
       "      <td>\"that's what the carriage return character is ...</td>\n",
       "      <td>male</td>\n",
       "    </tr>\n",
       "    <tr>\n",
       "      <th>1</th>\n",
       "      <td>Hank</td>\n",
       "      <td>since i have no control of which connections a...</td>\n",
       "      <td>male</td>\n",
       "    </tr>\n",
       "    <tr>\n",
       "      <th>2</th>\n",
       "      <td>Quentin Hayot</td>\n",
       "      <td>if you really need to download your data every...</td>\n",
       "      <td>male</td>\n",
       "    </tr>\n",
       "    <tr>\n",
       "      <th>3</th>\n",
       "      <td>James Dunay</td>\n",
       "      <td>\"i can't figure out whats happening here and w...</td>\n",
       "      <td>male</td>\n",
       "    </tr>\n",
       "    <tr>\n",
       "      <th>4</th>\n",
       "      <td>david</td>\n",
       "      <td>\"how do you replace all non matches from one a...</td>\n",
       "      <td>male</td>\n",
       "    </tr>\n",
       "  </tbody>\n",
       "</table>\n",
       "</div>"
      ],
      "text/plain": [
       "               Name                                               Post Gender\n",
       "0  Joseph Mansfield  \"that's what the carriage return character is ...   male\n",
       "1              Hank  since i have no control of which connections a...   male\n",
       "2     Quentin Hayot  if you really need to download your data every...   male\n",
       "3       James Dunay  \"i can't figure out whats happening here and w...   male\n",
       "4             david  \"how do you replace all non matches from one a...   male"
      ]
     },
     "execution_count": 37,
     "metadata": {},
     "output_type": "execute_result"
    }
   ],
   "source": [
    "data.head()"
   ]
  },
  {
   "cell_type": "code",
   "execution_count": 38,
   "metadata": {},
   "outputs": [],
   "source": [
    "df2 = data.groupby('Name').agg({'Post':'count','Gender':'first'}).reset_index().rename(columns={'Post':'Count'})"
   ]
  },
  {
   "cell_type": "code",
   "execution_count": 39,
   "metadata": {},
   "outputs": [
    {
     "data": {
      "text/html": [
       "<div>\n",
       "<style scoped>\n",
       "    .dataframe tbody tr th:only-of-type {\n",
       "        vertical-align: middle;\n",
       "    }\n",
       "\n",
       "    .dataframe tbody tr th {\n",
       "        vertical-align: top;\n",
       "    }\n",
       "\n",
       "    .dataframe thead th {\n",
       "        text-align: right;\n",
       "    }\n",
       "</style>\n",
       "<table border=\"1\" class=\"dataframe\">\n",
       "  <thead>\n",
       "    <tr style=\"text-align: right;\">\n",
       "      <th></th>\n",
       "      <th>Name</th>\n",
       "      <th>Count</th>\n",
       "      <th>Gender</th>\n",
       "    </tr>\n",
       "  </thead>\n",
       "  <tbody>\n",
       "    <tr>\n",
       "      <th>0</th>\n",
       "      <td>Maria</td>\n",
       "      <td>1</td>\n",
       "      <td>female</td>\n",
       "    </tr>\n",
       "    <tr>\n",
       "      <th>1</th>\n",
       "      <td>Niki Hard</td>\n",
       "      <td>1</td>\n",
       "      <td>female</td>\n",
       "    </tr>\n",
       "    <tr>\n",
       "      <th>2</th>\n",
       "      <td>Allen</td>\n",
       "      <td>1</td>\n",
       "      <td>male</td>\n",
       "    </tr>\n",
       "    <tr>\n",
       "      <th>3</th>\n",
       "      <td>Anna</td>\n",
       "      <td>2</td>\n",
       "      <td>female</td>\n",
       "    </tr>\n",
       "    <tr>\n",
       "      <th>4</th>\n",
       "      <td>Benny Duikelaar</td>\n",
       "      <td>1</td>\n",
       "      <td>male</td>\n",
       "    </tr>\n",
       "  </tbody>\n",
       "</table>\n",
       "</div>"
      ],
      "text/plain": [
       "               Name  Count  Gender\n",
       "0            Maria       1  female\n",
       "1         Niki Hard      1  female\n",
       "2             Allen      1    male\n",
       "3              Anna      2  female\n",
       "4   Benny Duikelaar      1    male"
      ]
     },
     "execution_count": 39,
     "metadata": {},
     "output_type": "execute_result"
    }
   ],
   "source": [
    "df2.head()"
   ]
  },
  {
   "cell_type": "code",
   "execution_count": 41,
   "metadata": {},
   "outputs": [
    {
     "name": "stdout",
     "output_type": "stream",
     "text": [
      "(107654, 3) (54061, 3)\n"
     ]
    }
   ],
   "source": [
    "df_m = df2.loc[df2.Gender=='male']\n",
    "df_f = df2.loc[df2.Gender=='female']\n",
    "print(df_m.shape,df_f.shape)"
   ]
  },
  {
   "cell_type": "code",
   "execution_count": 42,
   "metadata": {},
   "outputs": [
    {
     "name": "stdout",
     "output_type": "stream",
     "text": [
      "79871 461248\n",
      "27783 154740\n"
     ]
    }
   ],
   "source": [
    "train_ids =[]\n",
    "test_ids=[]\n",
    "count=0\n",
    "c_tr = 0\n",
    "c_ts=0\n",
    "limit = round(.75*df_m.Count.sum())\n",
    "for index, row in df_m.iterrows():\n",
    "    count+= row['Count']\n",
    "    \n",
    "    if(count<= limit):\n",
    "        train_ids.append(row['Name'])\n",
    "        c_tr+= row['Count']\n",
    "    else:\n",
    "        test_ids.append(row['Name'])\n",
    "        c_ts+= row['Count']\n",
    "\n",
    "print(len(train_ids),c_tr)\n",
    "print(len(test_ids),c_ts)"
   ]
  },
  {
   "cell_type": "code",
   "execution_count": 43,
   "metadata": {},
   "outputs": [
    {
     "name": "stdout",
     "output_type": "stream",
     "text": [
      "121888 462017\n",
      "39827 154040\n"
     ]
    }
   ],
   "source": [
    "count=0\n",
    "c_tr = 0\n",
    "c_ts=0\n",
    "limit = round(.75*df_f.Count.sum())\n",
    "for index, row in df_f.iterrows():\n",
    "    count+= row['Count']\n",
    "    \n",
    "    if(count<= limit):\n",
    "        train_ids.append(row['Name'])\n",
    "        c_tr+= row['Count']\n",
    "    else:\n",
    "        test_ids.append(row['Name'])\n",
    "        c_ts+= row['Count']\n",
    "\n",
    "print(len(train_ids),c_tr)\n",
    "print(len(test_ids),c_ts)"
   ]
  },
  {
   "cell_type": "code",
   "execution_count": 44,
   "metadata": {},
   "outputs": [],
   "source": [
    "df_train = data.loc[data.Name.isin(train_ids)].reset_index()"
   ]
  },
  {
   "cell_type": "code",
   "execution_count": 45,
   "metadata": {},
   "outputs": [
    {
     "data": {
      "text/html": [
       "<div>\n",
       "<style scoped>\n",
       "    .dataframe tbody tr th:only-of-type {\n",
       "        vertical-align: middle;\n",
       "    }\n",
       "\n",
       "    .dataframe tbody tr th {\n",
       "        vertical-align: top;\n",
       "    }\n",
       "\n",
       "    .dataframe thead th {\n",
       "        text-align: right;\n",
       "    }\n",
       "</style>\n",
       "<table border=\"1\" class=\"dataframe\">\n",
       "  <thead>\n",
       "    <tr style=\"text-align: right;\">\n",
       "      <th></th>\n",
       "      <th>index</th>\n",
       "      <th>Name</th>\n",
       "      <th>Post</th>\n",
       "      <th>Gender</th>\n",
       "    </tr>\n",
       "  </thead>\n",
       "  <tbody>\n",
       "    <tr>\n",
       "      <th>0</th>\n",
       "      <td>0</td>\n",
       "      <td>Joseph Mansfield</td>\n",
       "      <td>\"that's what the carriage return character is ...</td>\n",
       "      <td>male</td>\n",
       "    </tr>\n",
       "    <tr>\n",
       "      <th>1</th>\n",
       "      <td>1</td>\n",
       "      <td>Hank</td>\n",
       "      <td>since i have no control of which connections a...</td>\n",
       "      <td>male</td>\n",
       "    </tr>\n",
       "    <tr>\n",
       "      <th>2</th>\n",
       "      <td>2</td>\n",
       "      <td>Quentin Hayot</td>\n",
       "      <td>if you really need to download your data every...</td>\n",
       "      <td>male</td>\n",
       "    </tr>\n",
       "    <tr>\n",
       "      <th>3</th>\n",
       "      <td>3</td>\n",
       "      <td>James Dunay</td>\n",
       "      <td>\"i can't figure out whats happening here and w...</td>\n",
       "      <td>male</td>\n",
       "    </tr>\n",
       "    <tr>\n",
       "      <th>4</th>\n",
       "      <td>5</td>\n",
       "      <td>Brian Ball</td>\n",
       "      <td>there are already some good suggestions. i wou...</td>\n",
       "      <td>male</td>\n",
       "    </tr>\n",
       "  </tbody>\n",
       "</table>\n",
       "</div>"
      ],
      "text/plain": [
       "   index              Name                                               Post  \\\n",
       "0      0  Joseph Mansfield  \"that's what the carriage return character is ...   \n",
       "1      1              Hank  since i have no control of which connections a...   \n",
       "2      2     Quentin Hayot  if you really need to download your data every...   \n",
       "3      3       James Dunay  \"i can't figure out whats happening here and w...   \n",
       "4      5        Brian Ball  there are already some good suggestions. i wou...   \n",
       "\n",
       "  Gender  \n",
       "0   male  \n",
       "1   male  \n",
       "2   male  \n",
       "3   male  \n",
       "4   male  "
      ]
     },
     "execution_count": 45,
     "metadata": {},
     "output_type": "execute_result"
    }
   ],
   "source": [
    "df_train.head()"
   ]
  },
  {
   "cell_type": "code",
   "execution_count": 47,
   "metadata": {},
   "outputs": [
    {
     "data": {
      "text/plain": [
       "(923341, 4)"
      ]
     },
     "execution_count": 47,
     "metadata": {},
     "output_type": "execute_result"
    }
   ],
   "source": [
    "df_train.shape"
   ]
  },
  {
   "cell_type": "code",
   "execution_count": 48,
   "metadata": {},
   "outputs": [],
   "source": [
    "df_test = data.loc[data.Name.isin(test_ids)].reset_index()"
   ]
  },
  {
   "cell_type": "code",
   "execution_count": 49,
   "metadata": {},
   "outputs": [
    {
     "data": {
      "text/plain": [
       "(308789, 4)"
      ]
     },
     "execution_count": 49,
     "metadata": {},
     "output_type": "execute_result"
    }
   ],
   "source": [
    "df_test.shape"
   ]
  },
  {
   "cell_type": "code",
   "execution_count": 50,
   "metadata": {},
   "outputs": [],
   "source": [
    "df_train.drop(['index'],axis=1, inplace=True)\n",
    "df_test.drop(['index'],axis=1, inplace=True)"
   ]
  },
  {
   "cell_type": "code",
   "execution_count": 51,
   "metadata": {},
   "outputs": [],
   "source": [
    "df_train.drop(['Name'],axis=1, inplace=True)"
   ]
  },
  {
   "cell_type": "code",
   "execution_count": 52,
   "metadata": {},
   "outputs": [
    {
     "data": {
      "text/html": [
       "<div>\n",
       "<style scoped>\n",
       "    .dataframe tbody tr th:only-of-type {\n",
       "        vertical-align: middle;\n",
       "    }\n",
       "\n",
       "    .dataframe tbody tr th {\n",
       "        vertical-align: top;\n",
       "    }\n",
       "\n",
       "    .dataframe thead th {\n",
       "        text-align: right;\n",
       "    }\n",
       "</style>\n",
       "<table border=\"1\" class=\"dataframe\">\n",
       "  <thead>\n",
       "    <tr style=\"text-align: right;\">\n",
       "      <th></th>\n",
       "      <th>Post</th>\n",
       "      <th>Label</th>\n",
       "    </tr>\n",
       "  </thead>\n",
       "  <tbody>\n",
       "    <tr>\n",
       "      <th>0</th>\n",
       "      <td>\"that's what the carriage return character is ...</td>\n",
       "      <td>0</td>\n",
       "    </tr>\n",
       "    <tr>\n",
       "      <th>1</th>\n",
       "      <td>since i have no control of which connections a...</td>\n",
       "      <td>0</td>\n",
       "    </tr>\n",
       "    <tr>\n",
       "      <th>2</th>\n",
       "      <td>if you really need to download your data every...</td>\n",
       "      <td>0</td>\n",
       "    </tr>\n",
       "    <tr>\n",
       "      <th>3</th>\n",
       "      <td>\"i can't figure out whats happening here and w...</td>\n",
       "      <td>0</td>\n",
       "    </tr>\n",
       "    <tr>\n",
       "      <th>4</th>\n",
       "      <td>there are already some good suggestions. i wou...</td>\n",
       "      <td>0</td>\n",
       "    </tr>\n",
       "  </tbody>\n",
       "</table>\n",
       "</div>"
      ],
      "text/plain": [
       "                                                Post  Label\n",
       "0  \"that's what the carriage return character is ...      0\n",
       "1  since i have no control of which connections a...      0\n",
       "2  if you really need to download your data every...      0\n",
       "3  \"i can't figure out whats happening here and w...      0\n",
       "4  there are already some good suggestions. i wou...      0"
      ]
     },
     "execution_count": 52,
     "metadata": {},
     "output_type": "execute_result"
    }
   ],
   "source": [
    "df_train['Label'] = pd.get_dummies(df_train.Gender)['female']\n",
    "df_train.drop(['Gender'],axis=1, inplace=True)\n",
    "df_train.head()"
   ]
  },
  {
   "cell_type": "code",
   "execution_count": 53,
   "metadata": {},
   "outputs": [],
   "source": [
    "df_train = df_train[['Label','Post']]"
   ]
  },
  {
   "cell_type": "code",
   "execution_count": 54,
   "metadata": {},
   "outputs": [
    {
     "data": {
      "text/html": [
       "<div>\n",
       "<style scoped>\n",
       "    .dataframe tbody tr th:only-of-type {\n",
       "        vertical-align: middle;\n",
       "    }\n",
       "\n",
       "    .dataframe tbody tr th {\n",
       "        vertical-align: top;\n",
       "    }\n",
       "\n",
       "    .dataframe thead th {\n",
       "        text-align: right;\n",
       "    }\n",
       "</style>\n",
       "<table border=\"1\" class=\"dataframe\">\n",
       "  <thead>\n",
       "    <tr style=\"text-align: right;\">\n",
       "      <th></th>\n",
       "      <th>Label</th>\n",
       "      <th>Post</th>\n",
       "    </tr>\n",
       "  </thead>\n",
       "  <tbody>\n",
       "    <tr>\n",
       "      <th>0</th>\n",
       "      <td>0</td>\n",
       "      <td>\"that's what the carriage return character is ...</td>\n",
       "    </tr>\n",
       "    <tr>\n",
       "      <th>1</th>\n",
       "      <td>0</td>\n",
       "      <td>since i have no control of which connections a...</td>\n",
       "    </tr>\n",
       "    <tr>\n",
       "      <th>2</th>\n",
       "      <td>0</td>\n",
       "      <td>if you really need to download your data every...</td>\n",
       "    </tr>\n",
       "    <tr>\n",
       "      <th>3</th>\n",
       "      <td>0</td>\n",
       "      <td>\"i can't figure out whats happening here and w...</td>\n",
       "    </tr>\n",
       "    <tr>\n",
       "      <th>4</th>\n",
       "      <td>0</td>\n",
       "      <td>there are already some good suggestions. i wou...</td>\n",
       "    </tr>\n",
       "  </tbody>\n",
       "</table>\n",
       "</div>"
      ],
      "text/plain": [
       "   Label                                               Post\n",
       "0      0  \"that's what the carriage return character is ...\n",
       "1      0  since i have no control of which connections a...\n",
       "2      0  if you really need to download your data every...\n",
       "3      0  \"i can't figure out whats happening here and w...\n",
       "4      0  there are already some good suggestions. i wou..."
      ]
     },
     "execution_count": 54,
     "metadata": {},
     "output_type": "execute_result"
    }
   ],
   "source": [
    "df_train.head()"
   ]
  },
  {
   "cell_type": "code",
   "execution_count": 55,
   "metadata": {},
   "outputs": [
    {
     "data": {
      "text/html": [
       "<div>\n",
       "<style scoped>\n",
       "    .dataframe tbody tr th:only-of-type {\n",
       "        vertical-align: middle;\n",
       "    }\n",
       "\n",
       "    .dataframe tbody tr th {\n",
       "        vertical-align: top;\n",
       "    }\n",
       "\n",
       "    .dataframe thead th {\n",
       "        text-align: right;\n",
       "    }\n",
       "</style>\n",
       "<table border=\"1\" class=\"dataframe\">\n",
       "  <thead>\n",
       "    <tr style=\"text-align: right;\">\n",
       "      <th></th>\n",
       "      <th>Label</th>\n",
       "      <th>Post</th>\n",
       "    </tr>\n",
       "  </thead>\n",
       "  <tbody>\n",
       "    <tr>\n",
       "      <th>0</th>\n",
       "      <td>0</td>\n",
       "      <td>you should store the fact that that a row as b...</td>\n",
       "    </tr>\n",
       "    <tr>\n",
       "      <th>1</th>\n",
       "      <td>0</td>\n",
       "      <td>django 1.9.7 postgresql could you help me unde...</td>\n",
       "    </tr>\n",
       "    <tr>\n",
       "      <th>2</th>\n",
       "      <td>1</td>\n",
       "      <td>\"we have a lot of ajax calls in our applicatio...</td>\n",
       "    </tr>\n",
       "    <tr>\n",
       "      <th>3</th>\n",
       "      <td>0</td>\n",
       "      <td>\"i am trying to implement a program that will ...</td>\n",
       "    </tr>\n",
       "    <tr>\n",
       "      <th>4</th>\n",
       "      <td>1</td>\n",
       "      <td>when an element is fixed, it needs its coordin...</td>\n",
       "    </tr>\n",
       "  </tbody>\n",
       "</table>\n",
       "</div>"
      ],
      "text/plain": [
       "   Label                                               Post\n",
       "0      0  you should store the fact that that a row as b...\n",
       "1      0  django 1.9.7 postgresql could you help me unde...\n",
       "2      1  \"we have a lot of ajax calls in our applicatio...\n",
       "3      0  \"i am trying to implement a program that will ...\n",
       "4      1  when an element is fixed, it needs its coordin..."
      ]
     },
     "execution_count": 55,
     "metadata": {},
     "output_type": "execute_result"
    }
   ],
   "source": [
    "df_train = df_train.sample(frac = 1).reset_index(drop=True)\n",
    "df_train.head()"
   ]
  },
  {
   "cell_type": "code",
   "execution_count": 56,
   "metadata": {},
   "outputs": [],
   "source": [
    "df_train.to_csv(\"/home/rachneet/datasets/stack_overflow/train_so.csv\",encoding = 'utf-8',header=False,index=False,na_rep=string)"
   ]
  },
  {
   "cell_type": "code",
   "execution_count": 57,
   "metadata": {},
   "outputs": [
    {
     "data": {
      "text/html": [
       "<div>\n",
       "<style scoped>\n",
       "    .dataframe tbody tr th:only-of-type {\n",
       "        vertical-align: middle;\n",
       "    }\n",
       "\n",
       "    .dataframe tbody tr th {\n",
       "        vertical-align: top;\n",
       "    }\n",
       "\n",
       "    .dataframe thead th {\n",
       "        text-align: right;\n",
       "    }\n",
       "</style>\n",
       "<table border=\"1\" class=\"dataframe\">\n",
       "  <thead>\n",
       "    <tr style=\"text-align: right;\">\n",
       "      <th></th>\n",
       "      <th>Name</th>\n",
       "      <th>Label</th>\n",
       "      <th>Post</th>\n",
       "    </tr>\n",
       "  </thead>\n",
       "  <tbody>\n",
       "    <tr>\n",
       "      <th>0</th>\n",
       "      <td>Zack Macomber</td>\n",
       "      <td>0</td>\n",
       "      <td>\"i have the following scope function in my con...</td>\n",
       "    </tr>\n",
       "    <tr>\n",
       "      <th>1</th>\n",
       "      <td>Tim</td>\n",
       "      <td>0</td>\n",
       "      <td>file.readlines returns an ienumerable&lt;string&gt;,...</td>\n",
       "    </tr>\n",
       "    <tr>\n",
       "      <th>2</th>\n",
       "      <td>Xander Angell</td>\n",
       "      <td>1</td>\n",
       "      <td>i am working in html 5 and wanted to add an im...</td>\n",
       "    </tr>\n",
       "    <tr>\n",
       "      <th>3</th>\n",
       "      <td>Trevor Hickey</td>\n",
       "      <td>0</td>\n",
       "      <td>\"i understand the motivation for using std::st...</td>\n",
       "    </tr>\n",
       "    <tr>\n",
       "      <th>4</th>\n",
       "      <td>murielg</td>\n",
       "      <td>1</td>\n",
       "      <td>\"i am trying to append a string, myoutput, rig...</td>\n",
       "    </tr>\n",
       "  </tbody>\n",
       "</table>\n",
       "</div>"
      ],
      "text/plain": [
       "            Name  Label                                               Post\n",
       "0  Zack Macomber      0  \"i have the following scope function in my con...\n",
       "1            Tim      0  file.readlines returns an ienumerable<string>,...\n",
       "2  Xander Angell      1  i am working in html 5 and wanted to add an im...\n",
       "3  Trevor Hickey      0  \"i understand the motivation for using std::st...\n",
       "4        murielg      1  \"i am trying to append a string, myoutput, rig..."
      ]
     },
     "execution_count": 57,
     "metadata": {},
     "output_type": "execute_result"
    }
   ],
   "source": [
    "df_test['Label'] = pd.get_dummies(df_test.Gender)['female']\n",
    "df_test.drop(['Gender'],axis=1, inplace=True)\n",
    "df_test = df_test[['Name','Label','Post']]\n",
    "df_test = df_test.sample(frac = 1).reset_index(drop=True)\n",
    "df_test.head()"
   ]
  },
  {
   "cell_type": "code",
   "execution_count": 58,
   "metadata": {},
   "outputs": [
    {
     "name": "stdout",
     "output_type": "stream",
     "text": [
      "(247031, 3) (61758, 3)\n"
     ]
    }
   ],
   "source": [
    "x = round(df_test.shape[0] * 0.80)\n",
    "test_set = df_test.iloc[:x]\n",
    "val_set = df_test.iloc[x:]\n",
    "print(test_set.shape, val_set.shape)"
   ]
  },
  {
   "cell_type": "code",
   "execution_count": 59,
   "metadata": {},
   "outputs": [
    {
     "data": {
      "text/html": [
       "<div>\n",
       "<style scoped>\n",
       "    .dataframe tbody tr th:only-of-type {\n",
       "        vertical-align: middle;\n",
       "    }\n",
       "\n",
       "    .dataframe tbody tr th {\n",
       "        vertical-align: top;\n",
       "    }\n",
       "\n",
       "    .dataframe thead th {\n",
       "        text-align: right;\n",
       "    }\n",
       "</style>\n",
       "<table border=\"1\" class=\"dataframe\">\n",
       "  <thead>\n",
       "    <tr style=\"text-align: right;\">\n",
       "      <th></th>\n",
       "      <th>Name</th>\n",
       "      <th>Label</th>\n",
       "      <th>Post</th>\n",
       "    </tr>\n",
       "  </thead>\n",
       "  <tbody>\n",
       "    <tr>\n",
       "      <th>0</th>\n",
       "      <td>Zack Macomber</td>\n",
       "      <td>0</td>\n",
       "      <td>\"i have the following scope function in my con...</td>\n",
       "    </tr>\n",
       "    <tr>\n",
       "      <th>1</th>\n",
       "      <td>Tim</td>\n",
       "      <td>0</td>\n",
       "      <td>file.readlines returns an ienumerable&lt;string&gt;,...</td>\n",
       "    </tr>\n",
       "    <tr>\n",
       "      <th>2</th>\n",
       "      <td>Xander Angell</td>\n",
       "      <td>1</td>\n",
       "      <td>i am working in html 5 and wanted to add an im...</td>\n",
       "    </tr>\n",
       "    <tr>\n",
       "      <th>3</th>\n",
       "      <td>Trevor Hickey</td>\n",
       "      <td>0</td>\n",
       "      <td>\"i understand the motivation for using std::st...</td>\n",
       "    </tr>\n",
       "    <tr>\n",
       "      <th>4</th>\n",
       "      <td>murielg</td>\n",
       "      <td>1</td>\n",
       "      <td>\"i am trying to append a string, myoutput, rig...</td>\n",
       "    </tr>\n",
       "  </tbody>\n",
       "</table>\n",
       "</div>"
      ],
      "text/plain": [
       "            Name  Label                                               Post\n",
       "0  Zack Macomber      0  \"i have the following scope function in my con...\n",
       "1            Tim      0  file.readlines returns an ienumerable<string>,...\n",
       "2  Xander Angell      1  i am working in html 5 and wanted to add an im...\n",
       "3  Trevor Hickey      0  \"i understand the motivation for using std::st...\n",
       "4        murielg      1  \"i am trying to append a string, myoutput, rig..."
      ]
     },
     "execution_count": 59,
     "metadata": {},
     "output_type": "execute_result"
    }
   ],
   "source": [
    "test_set.head()"
   ]
  },
  {
   "cell_type": "code",
   "execution_count": 60,
   "metadata": {},
   "outputs": [],
   "source": [
    "test_set.to_csv(\"/home/rachneet/datasets/stack_overflow/test_so.csv\",encoding = 'utf-8',header=False,index=False,na_rep=string)"
   ]
  },
  {
   "cell_type": "code",
   "execution_count": 61,
   "metadata": {},
   "outputs": [
    {
     "name": "stderr",
     "output_type": "stream",
     "text": [
      "/home/rachneet/.local/lib/python3.6/site-packages/pandas/core/frame.py:3940: SettingWithCopyWarning: \n",
      "A value is trying to be set on a copy of a slice from a DataFrame\n",
      "\n",
      "See the caveats in the documentation: http://pandas.pydata.org/pandas-docs/stable/indexing.html#indexing-view-versus-copy\n",
      "  errors=errors)\n"
     ]
    },
    {
     "data": {
      "text/html": [
       "<div>\n",
       "<style scoped>\n",
       "    .dataframe tbody tr th:only-of-type {\n",
       "        vertical-align: middle;\n",
       "    }\n",
       "\n",
       "    .dataframe tbody tr th {\n",
       "        vertical-align: top;\n",
       "    }\n",
       "\n",
       "    .dataframe thead th {\n",
       "        text-align: right;\n",
       "    }\n",
       "</style>\n",
       "<table border=\"1\" class=\"dataframe\">\n",
       "  <thead>\n",
       "    <tr style=\"text-align: right;\">\n",
       "      <th></th>\n",
       "      <th>Label</th>\n",
       "      <th>Post</th>\n",
       "    </tr>\n",
       "  </thead>\n",
       "  <tbody>\n",
       "    <tr>\n",
       "      <th>247031</th>\n",
       "      <td>0</td>\n",
       "      <td>\"i did it shown in this example: http://blog.s...</td>\n",
       "    </tr>\n",
       "    <tr>\n",
       "      <th>247032</th>\n",
       "      <td>0</td>\n",
       "      <td>\"please read the comments to this post underst...</td>\n",
       "    </tr>\n",
       "    <tr>\n",
       "      <th>247033</th>\n",
       "      <td>0</td>\n",
       "      <td>\"i'm trying to hide/show an action bar button ...</td>\n",
       "    </tr>\n",
       "    <tr>\n",
       "      <th>247034</th>\n",
       "      <td>1</td>\n",
       "      <td>i'm wondering where are gcc macros like builti...</td>\n",
       "    </tr>\n",
       "    <tr>\n",
       "      <th>247035</th>\n",
       "      <td>1</td>\n",
       "      <td>i am looking for a good wiki software to host ...</td>\n",
       "    </tr>\n",
       "  </tbody>\n",
       "</table>\n",
       "</div>"
      ],
      "text/plain": [
       "        Label                                               Post\n",
       "247031      0  \"i did it shown in this example: http://blog.s...\n",
       "247032      0  \"please read the comments to this post underst...\n",
       "247033      0  \"i'm trying to hide/show an action bar button ...\n",
       "247034      1  i'm wondering where are gcc macros like builti...\n",
       "247035      1  i am looking for a good wiki software to host ..."
      ]
     },
     "execution_count": 61,
     "metadata": {},
     "output_type": "execute_result"
    }
   ],
   "source": [
    "val_set.drop(['Name'],axis=1, inplace=True)\n",
    "val_set.head()"
   ]
  },
  {
   "cell_type": "code",
   "execution_count": 62,
   "metadata": {},
   "outputs": [],
   "source": [
    "val_set.to_csv(\"/home/rachneet/datasets/stack_overflow/validation_so.csv\",encoding = 'utf-8',header=False,index=False,na_rep=string)"
   ]
  },
  {
   "cell_type": "code",
   "execution_count": null,
   "metadata": {},
   "outputs": [],
   "source": []
  }
 ],
 "metadata": {
  "kernelspec": {
   "display_name": "Python 3",
   "language": "python",
   "name": "python3"
  },
  "language_info": {
   "codemirror_mode": {
    "name": "ipython",
    "version": 3
   },
   "file_extension": ".py",
   "mimetype": "text/x-python",
   "name": "python",
   "nbconvert_exporter": "python",
   "pygments_lexer": "ipython3",
   "version": "3.6.9"
  }
 },
 "nbformat": 4,
 "nbformat_minor": 2
}
